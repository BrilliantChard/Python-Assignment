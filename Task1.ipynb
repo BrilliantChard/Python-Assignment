{
 "cells": [
  {
   "cell_type": "code",
   "execution_count": 1,
   "id": "5f81c87a-ed4a-429a-8f36-8407fbb1fb74",
   "metadata": {},
   "outputs": [
    {
     "name": "stdin",
     "output_type": "stream",
     "text": [
      "Enter your name:  Chard Odhiambo\n",
      "Enter your age:  23\n",
      "Enter your current location:  Nyeri\n"
     ]
    }
   ],
   "source": [
    "name = str(input(\"Enter your name: \"))\n",
    "age = int(input(\"Enter your age: \"))\n",
    "location = str(input(\"Enter your current location: \"))"
   ]
  },
  {
   "cell_type": "code",
   "execution_count": 2,
   "id": "0fb23a72-bdbd-4918-a980-61d54bf3bd8d",
   "metadata": {},
   "outputs": [
    {
     "name": "stdout",
     "output_type": "stream",
     "text": [
      "Dear Chard Odhiambo, your age is: 23.\n",
      "Your current location is: Nyeri\n"
     ]
    }
   ],
   "source": [
    "print(f\"Dear {name}, your age is: {age}.\\nYour current location is: {location}\")"
   ]
  },
  {
   "cell_type": "code",
   "execution_count": null,
   "id": "9cfb420b-5dee-4c96-9f6d-0c5f7ab7003c",
   "metadata": {},
   "outputs": [],
   "source": []
  }
 ],
 "metadata": {
  "kernelspec": {
   "display_name": "Python 3 (ipykernel)",
   "language": "python",
   "name": "python3"
  },
  "language_info": {
   "codemirror_mode": {
    "name": "ipython",
    "version": 3
   },
   "file_extension": ".py",
   "mimetype": "text/x-python",
   "name": "python",
   "nbconvert_exporter": "python",
   "pygments_lexer": "ipython3",
   "version": "3.12.2"
  }
 },
 "nbformat": 4,
 "nbformat_minor": 5
}
